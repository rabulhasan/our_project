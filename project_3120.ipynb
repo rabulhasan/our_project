{
  "nbformat": 4,
  "nbformat_minor": 0,
  "metadata": {
    "colab": {
      "provenance": [],
      "authorship_tag": "ABX9TyPaUeZxtOwYniVI+A4Qja+k",
      "include_colab_link": true
    },
    "kernelspec": {
      "name": "python3",
      "display_name": "Python 3"
    },
    "language_info": {
      "name": "python"
    }
  },
  "cells": [
    {
      "cell_type": "markdown",
      "metadata": {
        "id": "view-in-github",
        "colab_type": "text"
      },
      "source": [
        "<a href=\"https://colab.research.google.com/github/rabulhasan/our_project/blob/main/project_3120.ipynb\" target=\"_parent\"><img src=\"https://colab.research.google.com/assets/colab-badge.svg\" alt=\"Open In Colab\"/></a>"
      ]
    },
    {
      "cell_type": "code",
      "execution_count": null,
      "metadata": {
        "id": "L6hYs78eny3g"
      },
      "outputs": [],
      "source": []
    },
    {
      "cell_type": "markdown",
      "source": [
        "# Equities (and other assets) vs the S&P 500\n",
        "The goal of this project is to import data from an online source and process the data using various python libraries. Your group will choose five distinct equities or assets in different classes. A regression analysis on each of the asset against the S&P 500 will determine if there is any correlation. Submit the final project as a single Jupyter notebook file (.ipynb).\n",
        "###Collecting Data\n",
        "- Choose five distinct equities or assets (oil, gold, bonds, currency pairs, bitcoins, etc…). Verify there is data available to import from Quandl, Alpha Vantage or Yahoo Finance.\n",
        "- Import daily prices (adj closing or spot) for all five assets. Use 1/1/2022 as the start date and 12/31/2022 as the end date. Display the first 5 rows and the total count for each asset.\n",
        "- Import daily prices for the S&P 500. Use 1/1/2022 as the start date and 12/31/2022 as the end date. Display the first 5 rows and the total count of the S&P.\n",
        "\n",
        "###Processing Data\n",
        "\n",
        "- Calculate daily % change (adj closing or spot) for each of the asset and the S&P. Display the first 5 rows and the total count for each data set.\n",
        "- Plot the daily % change (adj closing or spot) data using a bar graph for each asset.\n",
        "- Calculate and display the mean, standard deviation, variance, min, and max for each set of data.\n",
        "\n",
        "###Regression Analysis\n",
        "\n",
        "- Using scikit-learn, perform five linear regressions for each of the five assets against the S&P 500. Y should be % change S&P 500. X should be % change for each asset.\n",
        "- For each regression, plot the samples and the linear model. Label the Y axis as S&P 500 and the X axis as each asset.\n",
        "- Calculate and display the intercept, coefficient (slope), R2, and the Mean squared error.\n",
        "Which asset is highly correlated with the S&P 500 and which asset is the least correlated?\n",
        " "
      ],
      "metadata": {
        "id": "gKMofMrQsZsF"
      }
    },
    {
      "cell_type": "markdown",
      "source": [
        "## Collecting data"
      ],
      "metadata": {
        "id": "WIiwvegUbhQL"
      }
    },
    {
      "cell_type": "code",
      "source": [
        "#import liberies\n",
        "import yfinance as yf\n",
        "# Import the plotting library\n",
        "import matplotlib.pyplot as plt\n",
        "%matplotlib inline"
      ],
      "metadata": {
        "id": "BZdVrc6hcMXT"
      },
      "execution_count": 20,
      "outputs": []
    },
    {
      "cell_type": "code",
      "source": [
        "\n",
        "\n",
        "# Download historical data for Apple stock, gold prices, Bitcoin, crude oil, and the Euro/US Dollar exchange rate\n",
        "aapl = yf.download(\"AAPL\", start=\"2022-01-01\", end=\"2022-12-31\")\n",
        "gold = yf.download(\"GC=F\", start=\"2022-01-01\", end=\"2022-12-31\")\n",
        "btc = yf.download(\"BTC-USD\", start=\"2022-01-01\", end=\"2022-12-31\")\n",
        "oil = yf.download(\"CL=F\", start=\"2022-01-01\", end=\"2022-12-31\")\n",
        "eurusd = yf.download(\"EURUSD=X\", start=\"2022-01-01\", end=\"2022-12-31\")\n",
        "\n",
        "# Print the first 5 rows of the Apple stock data\n",
        "print('\\n_________________________\\n apple stock \\n_________________________\\n')\n",
        "print(aapl.head())\n",
        "\n",
        "# Print the first 5 rows of the gold data\n",
        "print('\\n_________________________\\n gold\\n_________________________\\n')\n",
        "print(gold.head())\n",
        "\n",
        "# Print the first 5 rows of the Bitcoin data\n",
        "print('\\n_________________________\\n bitcoin\\n_________________________\\n')\n",
        "print(btc.head())\n",
        "\n",
        "# Print the first 5 rows of the crude oil data\n",
        "\n",
        "print('\\n_________________________\\n oil\\n_________________________\\n')\n",
        "print(oil.head())\n",
        "\n",
        "# Print the first 5 rows of the Euro/US Dollar exchange rate data\n",
        "\n",
        "print('\\n_________________________\\n euro\\n_________________________\\n')\n",
        "print(eurusd.head())\n",
        "\n",
        "#total count\n",
        "print(f'Total number of trading days for aaple: {len(aapl)}\\n')\n",
        "print(f'Total number of trading days for gold: {len(gold)}\\n')\n",
        "print(f'Total number of trading days for bitcoin: {len(btc)}\\n')\n",
        "print(f'Total number of trading days for oil: {len(oil)}\\n')\n",
        "print(f'Total number of trading days for euro: {len(eurusd)}')"
      ],
      "metadata": {
        "colab": {
          "base_uri": "https://localhost:8080/"
        },
        "id": "9T1LOap6Ztgz",
        "outputId": "86727fea-8c7a-4f20-c79a-571a2a20b904"
      },
      "execution_count": 31,
      "outputs": [
        {
          "output_type": "stream",
          "name": "stdout",
          "text": [
            "[*********************100%***********************]  1 of 1 completed\n",
            "[*********************100%***********************]  1 of 1 completed\n",
            "[*********************100%***********************]  1 of 1 completed\n",
            "[*********************100%***********************]  1 of 1 completed\n",
            "[*********************100%***********************]  1 of 1 completed\n",
            "\n",
            "_________________________\n",
            " apple stock \n",
            "_________________________\n",
            "\n",
            "                  Open        High         Low       Close   Adj Close  \\\n",
            "Date                                                                     \n",
            "2022-01-03  177.830002  182.880005  177.710007  182.009995  180.683868   \n",
            "2022-01-04  182.630005  182.940002  179.119995  179.699997  178.390686   \n",
            "2022-01-05  179.610001  180.169998  174.639999  174.919998  173.645538   \n",
            "2022-01-06  172.699997  175.300003  171.639999  172.000000  170.746796   \n",
            "2022-01-07  172.889999  174.139999  171.029999  172.169998  170.915573   \n",
            "\n",
            "               Volume  \n",
            "Date                   \n",
            "2022-01-03  104487900  \n",
            "2022-01-04   99310400  \n",
            "2022-01-05   94537600  \n",
            "2022-01-06   96904000  \n",
            "2022-01-07   86709100  \n",
            "\n",
            "_________________________\n",
            " gold\n",
            "_________________________\n",
            "\n",
            "                   Open         High          Low        Close    Adj Close  \\\n",
            "Date                                                                          \n",
            "2022-01-03  1830.099976  1830.099976  1798.800049  1799.400024  1799.400024   \n",
            "2022-01-04  1800.500000  1815.300049  1800.000000  1814.000000  1814.000000   \n",
            "2022-01-05  1813.099976  1824.599976  1813.099976  1824.599976  1824.599976   \n",
            "2022-01-06  1787.099976  1791.300049  1787.099976  1788.699951  1788.699951   \n",
            "2022-01-07  1791.800049  1797.000000  1784.400024  1797.000000  1797.000000   \n",
            "\n",
            "            Volume  \n",
            "Date                \n",
            "2022-01-03     116  \n",
            "2022-01-04      38  \n",
            "2022-01-05       8  \n",
            "2022-01-06      30  \n",
            "2022-01-07      17  \n",
            "\n",
            "_________________________\n",
            " bitcoin\n",
            "_________________________\n",
            "\n",
            "                    Open          High           Low         Close  \\\n",
            "Date                                                                 \n",
            "2022-01-01  46311.746094  47827.312500  46288.484375  47686.812500   \n",
            "2022-01-02  47680.925781  47881.406250  46856.937500  47345.218750   \n",
            "2022-01-03  47343.542969  47510.726562  45835.964844  46458.117188   \n",
            "2022-01-04  46458.851562  47406.546875  45752.464844  45897.574219   \n",
            "2022-01-05  45899.359375  46929.046875  42798.222656  43569.003906   \n",
            "\n",
            "               Adj Close       Volume  \n",
            "Date                                   \n",
            "2022-01-01  47686.812500  24582667004  \n",
            "2022-01-02  47345.218750  27951569547  \n",
            "2022-01-03  46458.117188  33071628362  \n",
            "2022-01-04  45897.574219  42494677905  \n",
            "2022-01-05  43569.003906  36851084859  \n",
            "\n",
            "_________________________\n",
            " oil\n",
            "_________________________\n",
            "\n",
            "                 Open       High        Low      Close  Adj Close  Volume\n",
            "Date                                                                     \n",
            "2022-01-03  75.690002  76.459999  74.269997  76.080002  76.080002  317628\n",
            "2022-01-04  76.019997  77.639999  75.699997  76.989998  76.989998  372848\n",
            "2022-01-05  77.180000  78.580002  76.510002  77.849998  77.849998  397898\n",
            "2022-01-06  77.239998  80.239998  76.730003  79.459999  79.459999  476665\n",
            "2022-01-07  79.620003  80.470001  78.519997  78.900002  78.900002  414434\n",
            "\n",
            "_________________________\n",
            " euro\n",
            "_________________________\n",
            "\n",
            "                Open      High       Low     Close  Adj Close  Volume\n",
            "Date                                                                 \n",
            "2022-01-03  1.137385  1.137592  1.128541  1.137346   1.137346       0\n",
            "2022-01-04  1.130199  1.132300  1.127345  1.130224   1.130224       0\n",
            "2022-01-05  1.128541  1.134559  1.127764  1.128363   1.128363       0\n",
            "2022-01-06  1.131222  1.133067  1.128554  1.131350   1.131350       0\n",
            "2022-01-07  1.129586  1.135976  1.129050  1.129688   1.129688       0\n",
            "Total number of trading days for aaple: 251\n",
            "\n",
            "Total number of trading days for gold: 251\n",
            "\n",
            "Total number of trading days for bitcoin: 364\n",
            "\n",
            "Total number of trading days for oil: 252\n",
            "\n",
            "Total number of trading days for euro: 260\n"
          ]
        }
      ]
    },
    {
      "cell_type": "code",
      "source": [
        "# Download the S&P 500 index data\n",
        "spy = yf.download('^GSPC', start='2022-01-01', end='2022-12-31', auto_adjust=True)\n",
        "\n",
        "# Print the first five rows of the data\n",
        "print(spy.head())\n",
        "\n",
        "# Get the total number of trading days\n",
        "num_trading_days = len(spy)\n",
        "\n",
        "# Print the result\n",
        "print(f'\\n----------------------------------------------------------\\n Total number of trading days for S&P 500 in 2022: {num_trading_days}')\n"
      ],
      "metadata": {
        "colab": {
          "base_uri": "https://localhost:8080/"
        },
        "id": "_aZjOEABdrxv",
        "outputId": "64c5b8a5-a90e-49cb-c0dc-dfb13a0d99b2"
      },
      "execution_count": 28,
      "outputs": [
        {
          "output_type": "stream",
          "name": "stdout",
          "text": [
            "\r[*********************100%***********************]  1 of 1 completed\n",
            "                   Open         High          Low        Close      Volume\n",
            "Date                                                                      \n",
            "2022-01-03  4778.140137  4796.640137  4758.169922  4796.560059  3831020000\n",
            "2022-01-04  4804.509766  4818.620117  4774.270020  4793.540039  4683170000\n",
            "2022-01-05  4787.990234  4797.700195  4699.439941  4700.580078  4887960000\n",
            "2022-01-06  4693.390137  4725.009766  4671.259766  4696.049805  4295280000\n",
            "2022-01-07  4697.660156  4707.950195  4662.740234  4677.029785  4181510000\n",
            "\n",
            "----------------------------------------------------------\n",
            " Total number of trading days for S&P 500 in 2022: 251\n"
          ]
        }
      ]
    },
    {
      "cell_type": "markdown",
      "source": [
        "## Procecing data"
      ],
      "metadata": {
        "id": "6XZt8WvdiGuz"
      }
    },
    {
      "cell_type": "markdown",
      "source": [],
      "metadata": {
        "id": "OUzGjpaqjhSZ"
      }
    },
    {
      "cell_type": "code",
      "source": [
        "# Calculate daily percentage change for Apple stock\n",
        "aapl_daily_return = aapl['Close'].pct_change()\n",
        "\n",
        "# Calculate daily percentage change for gold prices\n",
        "gold_daily_return = gold['Close'].pct_change()\n",
        "\n",
        "# Calculate daily percentage change for Bitcoin\n",
        "btc_daily_return = btc['Close'].pct_change()\n",
        "\n",
        "# Calculate daily percentage change for crude oil\n",
        "oil_daily_return = oil['Close'].pct_change()\n",
        "\n",
        "# Calculate daily percentage change for Euro/US Dollar exchange rate\n",
        "eurusd_daily_return = eurusd['Close'].pct_change()\n",
        "\n",
        "# Calculate daily percentage change for the S&P 500 index\n",
        "spy_daily_return = spy['Close'].pct_change()\n",
        "\n",
        "# Print the first 5 rows of each dataset\n",
        "print('AAPL daily return:')\n",
        "print(aapl_daily_return.head())\n",
        "print('Gold daily return:')\n",
        "print(gold_daily_return.head())\n",
        "print('BTC daily return:')\n",
        "print(btc_daily_return.head())\n",
        "print('Oil daily return:')\n",
        "print(oil_daily_return.head())\n",
        "print('EUR/USD daily return:')\n",
        "print(eurusd_daily_return.head())\n",
        "print('S&P 500 daily return:')\n",
        "print(spy_daily_return.head())\n",
        "\n",
        "# Print the total count for each dataset\n",
        "print('\\nAAPL total count:', len(aapl_daily_return))\n",
        "print('Gold total count:', len(gold_daily_return))\n",
        "print('BTC total count:', len(btc_daily_return))\n",
        "print('Oil total count:', len(oil_daily_return))\n",
        "print('EUR/USD total count:', len(eurusd_daily_return))\n",
        "print('S&P 500 total count:', len(spy_daily_return))\n"
      ],
      "metadata": {
        "colab": {
          "base_uri": "https://localhost:8080/"
        },
        "id": "lOCqC04gjh-q",
        "outputId": "4ef0c5bd-5d0a-434b-df0b-38b044ed31ba"
      },
      "execution_count": 34,
      "outputs": [
        {
          "output_type": "stream",
          "name": "stdout",
          "text": [
            "AAPL daily return:\n",
            "Date\n",
            "2022-01-03         NaN\n",
            "2022-01-04   -0.012692\n",
            "2022-01-05   -0.026600\n",
            "2022-01-06   -0.016693\n",
            "2022-01-07    0.000988\n",
            "Name: Close, dtype: float64\n",
            "Gold daily return:\n",
            "Date\n",
            "2022-01-03         NaN\n",
            "2022-01-04    0.008114\n",
            "2022-01-05    0.005843\n",
            "2022-01-06   -0.019676\n",
            "2022-01-07    0.004640\n",
            "Name: Close, dtype: float64\n",
            "BTC daily return:\n",
            "Date\n",
            "2022-01-01         NaN\n",
            "2022-01-02   -0.007163\n",
            "2022-01-03   -0.018737\n",
            "2022-01-04   -0.012066\n",
            "2022-01-05   -0.050734\n",
            "Name: Close, dtype: float64\n",
            "Oil daily return:\n",
            "Date\n",
            "2022-01-03         NaN\n",
            "2022-01-04    0.011961\n",
            "2022-01-05    0.011170\n",
            "2022-01-06    0.020681\n",
            "2022-01-07   -0.007048\n",
            "Name: Close, dtype: float64\n",
            "EUR/USD daily return:\n",
            "Date\n",
            "2022-01-03         NaN\n",
            "2022-01-04   -0.006261\n",
            "2022-01-05   -0.001647\n",
            "2022-01-06    0.002647\n",
            "2022-01-07   -0.001469\n",
            "Name: Close, dtype: float64\n",
            "S&P 500 daily return:\n",
            "Date\n",
            "2022-01-03         NaN\n",
            "2022-01-04   -0.000630\n",
            "2022-01-05   -0.019393\n",
            "2022-01-06   -0.000964\n",
            "2022-01-07   -0.004050\n",
            "Name: Close, dtype: float64\n",
            "\n",
            "AAPL total count: 251\n",
            "Gold total count: 251\n",
            "BTC total count: 364\n",
            "Oil total count: 252\n",
            "EUR/USD total count: 260\n",
            "S&P 500 total count: 251\n"
          ]
        }
      ]
    },
    {
      "cell_type": "code",
      "source": [
        "import matplotlib.pyplot as plt\n",
        "\n",
        "# Set the figure size\n",
        "plt.figure(figsize=(10, 6))\n",
        "\n",
        "# Plot the daily percentage change for each asset using a bar graph\n",
        "plt.bar(aapl_daily_return.index, aapl_daily_return.values, label='AAPL')\n",
        "plt.bar(gold_daily_return.index, gold_daily_return.values, label='Gold')\n",
        "plt.bar(btc_daily_return.index, btc_daily_return.values, label='BTC')\n",
        "plt.bar(oil_daily_return.index, oil_daily_return.values, label='Oil')\n",
        "plt.bar(eurusd_daily_return.index, eurusd_daily_return.values, label='EUR/USD')\n",
        "plt.bar(spy_daily_return.index, spy_daily_return.values, label='S&P 500')\n",
        "\n",
        "# Add a legend and labels\n",
        "plt.legend()\n",
        "plt.xlabel('Date')\n",
        "plt.ylabel('Daily % Change')\n",
        "plt.title('Daily % Change for Selected Assets')\n",
        "\n",
        "# Show the plot\n",
        "plt.show()\n"
      ],
      "metadata": {
        "colab": {
          "base_uri": "https://localhost:8080/",
          "height": 564
        },
        "id": "psWJR01jj3ty",
        "outputId": "146161d0-6ebc-4302-9f5d-37555592eecd"
      },
      "execution_count": 35,
      "outputs": [
        {
          "output_type": "display_data",
          "data": {
            "text/plain": [
              "<Figure size 1000x600 with 1 Axes>"
            ],
            "image/png": "[encoded data removed]"
          },
          "metadata": {}
        }
      ]
    },
    {
      "cell_type": "code",
      "source": [
        "# Calculate and display mean, standard deviation, variance, min, and max for each dataset\n",
        "\n",
        "print('AAPL daily return:')\n",
        "print(f\"Mean: {aapl_daily_return.mean()}\")\n",
        "print(f\"Standard Deviation: {aapl_daily_return.std()}\")\n",
        "print(f\"Variance: {aapl_daily_return.var()}\")\n",
        "print(f\"Min: {aapl_daily_return.min()}\")\n",
        "print(f\"Max: {aapl_daily_return.max()}\")\n",
        "\n",
        "print('\\nGold daily return:')\n",
        "print(f\"Mean: {gold_daily_return.mean()}\")\n",
        "print(f\"Standard Deviation: {gold_daily_return.std()}\")\n",
        "print(f\"Variance: {gold_daily_return.var()}\")\n",
        "print(f\"Min: {gold_daily_return.min()}\")\n",
        "print(f\"Max: {gold_daily_return.max()}\")\n",
        "\n",
        "print('\\nBTC daily return:')\n",
        "print(f\"Mean: {btc_daily_return.mean()}\")\n",
        "print(f\"Standard Deviation: {btc_daily_return.std()}\")\n",
        "print(f\"Variance: {btc_daily_return.var()}\")\n",
        "print(f\"Min: {btc_daily_return.min()}\")\n",
        "print(f\"Max: {btc_daily_return.max()}\")\n",
        "\n",
        "print('\\nOil daily return:')\n",
        "print(f\"Mean: {oil_daily_return.mean()}\")\n",
        "print(f\"Standard Deviation: {oil_daily_return.std()}\")\n",
        "print(f\"Variance: {oil_daily_return.var()}\")\n",
        "print(f\"Min: {oil_daily_return.min()}\")\n",
        "print(f\"Max: {oil_daily_return.max()}\")\n",
        "\n",
        "print('\\nEUR/USD daily return:')\n",
        "print(f\"Mean: {eurusd_daily_return.mean()}\")\n",
        "print(f\"Standard Deviation: {eurusd_daily_return.std()}\")\n",
        "print(f\"Variance: {eurusd_daily_return.var()}\")\n",
        "print(f\"Min: {eurusd_daily_return.min()}\")\n",
        "print(f\"Max: {eurusd_daily_return.max()}\")\n",
        "\n",
        "print('\\nS&P 500 daily return:')\n",
        "print(f\"Mean: {spy_daily_return.mean()}\")\n",
        "print(f\"Standard Deviation: {spy_daily_return.std()}\")\n",
        "print(f\"Variance: {spy_daily_return.var()}\")\n",
        "print(f\"Min: {spy_daily_return.min()}\")\n",
        "print(f\"Max: {spy_daily_return.max()}\")\n"
      ],
      "metadata": {
        "colab": {
          "base_uri": "https://localhost:8080/"
        },
        "id": "N_Xi4_4RkDys",
        "outputId": "a15bac81-5d72-439e-c518-1bccb290defb"
      },
      "execution_count": 36,
      "outputs": [
        {
          "output_type": "stream",
          "name": "stdout",
          "text": [
            "AAPL daily return:\n",
            "Mean: -0.0010966302389079968\n",
            "Standard Deviation: 0.022470985769036427\n",
            "Variance: 0.0005049452014322376\n",
            "Min: -0.05867953721882391\n",
            "Max: 0.08897457132383879\n",
            "\n",
            "Gold daily return:\n",
            "Mean: 9.2085644030246e-05\n",
            "Standard Deviation: 0.009738527959782332\n",
            "Variance: 9.483892682346225e-05\n",
            "Min: -0.026567301514872188\n",
            "Max: 0.03155783252344646\n",
            "\n",
            "BTC daily return:\n",
            "Mean: -0.002342322331245613\n",
            "Standard Deviation: 0.033307766907406\n",
            "Variance: 0.0011094073363580904\n",
            "Min: -0.15974726027617203\n",
            "Max: 0.1454118392886461\n",
            "\n",
            "Oil daily return:\n",
            "Mean: 0.0006748538050886645\n",
            "Standard Deviation: 0.03033209843973118\n",
            "Variance: 0.0009200361957575426\n",
            "Min: -0.12126111859385258\n",
            "Max: 0.08354379592718453\n",
            "\n",
            "EUR/USD daily return:\n",
            "Mean: -0.00023090263979186514\n",
            "Standard Deviation: 0.006164869474073563\n",
            "Variance: 3.800561563236405e-05\n",
            "Min: -0.017377526810348876\n",
            "Max: 0.018378184728221614\n",
            "\n",
            "S&P 500 daily return:\n",
            "Mean: -0.0007739196925590548\n",
            "Standard Deviation: 0.01525174155961099\n",
            "Variance: 0.0002326156206011651\n",
            "Min: -0.0432366134006168\n",
            "Max: 0.05543448436034493\n"
          ]
        }
      ]
    },
    {
      "cell_type": "markdown",
      "source": [
        "## Regression Analysis"
      ],
      "metadata": {
        "id": "SPjZQFFjkWx0"
      }
    }
  ]
}